{
 "cells": [
  {
   "cell_type": "code",
   "execution_count": null,
   "id": "ebcc5485",
   "metadata": {},
   "outputs": [
    {
     "ename": "",
     "evalue": "",
     "output_type": "error",
     "traceback": [
      "\u001b[1;31mRunning cells with 'env11 (Python 3.11.9)' requires the ipykernel package.\n",
      "\u001b[1;31mInstall 'ipykernel' into the Python environment. \n",
      "\u001b[1;31mCommand: '\"c:/Users/josit/CUARTO CURSO/APRENDIZAJE AUTOMATICO/Caso02_Prediccion_BBVA_SANTANDER/env11/Scripts/python.exe\" -m pip install ipykernel -U --force-reinstall'"
     ]
    }
   ],
   "source": [
    "import yfinance as yf\n",
    "import pandas as pd\n",
    "\n",
    "# Definir tickers\n",
    "tickers = ['SAN.MC', 'BBVA.MC']  # Bolsa española\n",
    "\n",
    "# Descargar todos los datos históricos\n",
    "data = yf.download(tickers, period='max', interval='1d')  # 'max' = todos los datos disponibles\n",
    "data = data['Adj Close']  # Nos quedamos solo con precios ajustados de cierre\n",
    "\n",
    "# Mostrar primeras filas\n",
    "print(data.head())\n",
    "print(data.tail())\n",
    "\n",
    "# Guardar en CSV por si quieres reutilizarlo\n",
    "data.to_csv('san_bbva_historico.csv')\n"
   ]
  }
 ],
 "metadata": {
  "kernelspec": {
   "display_name": "env11",
   "language": "python",
   "name": "python3"
  },
  "language_info": {
   "name": "python",
   "version": "3.11.9"
  }
 },
 "nbformat": 4,
 "nbformat_minor": 5
}
