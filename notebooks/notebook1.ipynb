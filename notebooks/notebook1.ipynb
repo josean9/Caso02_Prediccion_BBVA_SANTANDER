{
 "cells": [
  {
   "cell_type": "code",
   "execution_count": null,
   "id": "f9e57c46",
   "metadata": {},
   "outputs": [],
   "source": [
    "import pandas as pd\n",
    "import os\n",
    "\n",
    "# ====================================================\n",
    "# --- 1️⃣ Ruta del archivo original ---\n",
    "# ====================================================\n",
    "ruta_origen = \"..\\data\\csv\\fomc_sentiment_finbert.csv\"\n",
    "ruta_destino = \"..\\data\\csv\\fomc_sentiment_clean.csv\"\n",
    "\n",
    "# ====================================================\n",
    "# --- 2️⃣ Cargar y limpiar ---\n",
    "# ====================================================\n",
    "df = pd.read_csv(ruta_origen)\n",
    "\n",
    "# Detectar columnas de fecha y sentimiento\n",
    "fecha_col = next((c for c in df.columns if \"date\" in c.lower()), None)\n",
    "sent_col = next((c for c in df.columns if \"sentiment\" in c.lower() and \"score\" in c.lower()), None)\n",
    "\n",
    "if fecha_col is None or sent_col is None:\n",
    "    raise ValueError(\"❌ No se encontraron las columnas esperadas de fecha o sentimiento.\")\n",
    "\n",
    "# Limpiar datos\n",
    "df_clean = df[[fecha_col, sent_col]].copy()\n",
    "df_clean.columns = [\"release_date\", \"sentiment_score\"]\n",
    "\n",
    "# Eliminar filas vacías o con errores\n",
    "df_clean = df_clean.dropna(subset=[\"release_date\", \"sentiment_score\"])\n",
    "df_clean[\"release_date\"] = pd.to_datetime(df_clean[\"release_date\"], errors=\"coerce\")\n",
    "df_clean = df_clean[~df_clean[\"release_date\"].isna()]\n",
    "\n",
    "# ====================================================\n",
    "# --- 3️⃣ Guardar limpio ---\n",
    "# ====================================================\n",
    "os.makedirs(os.path.dirname(ruta_destino), exist_ok=True)\n",
    "df_clean.to_csv(ruta_destino, index=False)\n",
    "\n",
    "print(f\"✅ Dataset limpio guardado en:\\n{ruta_destino}\")\n",
    "print(df_clean.head())\n"
   ]
  }
 ],
 "metadata": {
  "kernelspec": {
   "display_name": "envproc",
   "language": "python",
   "name": "python3"
  },
  "language_info": {
   "name": "python",
   "version": "3.11.9"
  }
 },
 "nbformat": 4,
 "nbformat_minor": 5
}
